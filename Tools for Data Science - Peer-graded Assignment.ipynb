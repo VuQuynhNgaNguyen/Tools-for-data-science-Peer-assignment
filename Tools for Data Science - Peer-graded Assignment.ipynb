{
 "cells": [
  {
   "cell_type": "markdown",
   "id": "049e773c-441c-479a-8950-6731f93f5707",
   "metadata": {},
   "source": [
    "Exercise 2 – Notebook Title (Markdown)"
   ]
  },
  {
   "cell_type": "markdown",
   "id": "9ad1025a-9826-4b60-b3a2-a2143d435181",
   "metadata": {},
   "source": [
    "# Final Project: Introduction to Data Science\r\n"
   ]
  },
  {
   "cell_type": "markdown",
   "id": "d3ae990a-0118-49d5-bf01-b0d26f83ff25",
   "metadata": {},
   "source": [
    "Exercise 3 – Introduction (Markdown)"
   ]
  },
  {
   "cell_type": "markdown",
   "id": "00b419ca-5d3b-4b75-8a89-c2b297f44b12",
   "metadata": {},
   "source": [
    "## Introduction\r\n",
    "This notebook provides an overview of data science languages, libraries, and tools. It also demonstrates basic arithmetic operations and conversions.\r\n"
   ]
  },
  {
   "cell_type": "markdown",
   "id": "c253303b-067c-4635-bcfc-98c402e3011a",
   "metadata": {},
   "source": [
    "Exercise 4 – Data Science Languages (Markdown)"
   ]
  },
  {
   "cell_type": "markdown",
   "id": "23adc2a9-5a43-49fb-9045-beab168fd17e",
   "metadata": {},
   "source": [
    "## Data Science Languages\r\n",
    "- Python\r\n",
    "- R\r\n",
    "- SQL\r\n",
    "- Julia\r\n",
    "- Scala\r\n"
   ]
  },
  {
   "cell_type": "markdown",
   "id": "a5582411-fa0b-47fc-99c0-0a13b5f249e7",
   "metadata": {},
   "source": [
    "Exercise 5 – Data Science Libraries (Markdown)"
   ]
  },
  {
   "cell_type": "markdown",
   "id": "23a76639-b1ec-4ce6-ac04-1b46be892aaf",
   "metadata": {},
   "source": [
    "## Data Science Libraries\r\n",
    "- NumPy\r\n",
    "- Pandas\r\n",
    "- Matplotlib\r\n",
    "- Seaborn\r\n",
    "- Scikit-learn\r\n",
    "- TensorFlow\r\n",
    "- Keras\r\n"
   ]
  },
  {
   "cell_type": "markdown",
   "id": "02368062-da5a-4bef-82b3-7d8e117faa32",
   "metadata": {},
   "source": [
    "Exercise 6 – Data Science Tools Table (Markdown)"
   ]
  },
  {
   "cell_type": "markdown",
   "id": "e2bd1172-85e1-4760-aadd-f656b9bc99b1",
   "metadata": {},
   "source": [
    "## Data Science Tools\r\n",
    "\r\n",
    "| Tool Name       | Purpose                        |\r\n",
    "|-----------------|--------------------------------|\r\n",
    "| Jupyter Notebook| Interactive coding environment |\r\n",
    "| RStudio         | R programming environment      |\r\n",
    "| VS Code         | Code editor for multiple languages |\r\n",
    "| GitHub          | Version control and collaboration |\r\n",
    "| Tableau         | Data visualization             |\r\n"
   ]
  },
  {
   "cell_type": "markdown",
   "id": "db114742-f63a-40e7-a364-a5233027e306",
   "metadata": {},
   "source": [
    "Exercise 7 – Arithmetic Expression Examples (Markdown)"
   ]
  },
  {
   "cell_type": "markdown",
   "id": "17d7bb78-9ae4-41a9-9bcf-6998feaff0b7",
   "metadata": {},
   "source": [
    "## Arithmetic Expression Examples\r\n",
    "Here we demonstrate simple arithmetic operations like addition, subtraction, multiplication, and division.\r\n"
   ]
  },
  {
   "cell_type": "markdown",
   "id": "27a2e9bf-4398-4d1a-8319-756849784536",
   "metadata": {},
   "source": [
    "Exercise 8 – Multiply and Add Numbers (Code)"
   ]
  },
  {
   "cell_type": "code",
   "execution_count": 1,
   "id": "3cfcc527-2871-43ea-b14b-c788d74814db",
   "metadata": {},
   "outputs": [
    {
     "data": {
      "text/plain": [
       "70"
      ]
     },
     "execution_count": 1,
     "metadata": {},
     "output_type": "execute_result"
    }
   ],
   "source": [
    "# Multiplying and adding numbers\n",
    "result = (5 * 10) + 20\n",
    "result\n"
   ]
  },
  {
   "cell_type": "markdown",
   "id": "fcdc4cbe-b0b8-4863-9520-0b342a00345b",
   "metadata": {},
   "source": [
    "Exercise 9 – Convert Minutes to Hours (Code)"
   ]
  },
  {
   "cell_type": "code",
   "execution_count": 2,
   "id": "3cace4ac-fc56-42c1-9d07-3075e41e9577",
   "metadata": {},
   "outputs": [
    {
     "data": {
      "text/plain": [
       "2.25"
      ]
     },
     "execution_count": 2,
     "metadata": {},
     "output_type": "execute_result"
    }
   ],
   "source": [
    "# Convert minutes to hours\n",
    "minutes = 135\n",
    "hours = minutes / 60\n",
    "hours\n"
   ]
  },
  {
   "cell_type": "markdown",
   "id": "0eba5b30-fbab-4c88-a2c1-416a48a57b0d",
   "metadata": {},
   "source": [
    "Exercise 10 – Objectives (Markdown)"
   ]
  },
  {
   "cell_type": "markdown",
   "id": "45874ffc-b2d7-43af-9895-6f717b6fec86",
   "metadata": {},
   "source": [
    "## Objectives\r\n",
    "- Learn basic data science languages and libraries\r\n",
    "- Understand essential data science tools\r\n",
    "- Practice simple arithmetic operations\r\n",
    "- Convert units of time\r\n",
    "- Document results in a Jupyter notebook"
   ]
  },
  {
   "cell_type": "markdown",
   "id": "91331c1f-572e-4744-8456-ff0cbdfafeed",
   "metadata": {},
   "source": [
    "Exercise 11 – Author Name (Markdown)"
   ]
  },
  {
   "cell_type": "markdown",
   "id": "4ae385a0-b7bc-40db-849c-c45578fb6a03",
   "metadata": {},
   "source": [
    "## Author\r",
    "Nguyen Vu Quynh Nga\r\n"
   ]
  }
 ],
 "metadata": {
  "kernelspec": {
   "display_name": "Python 3 (ipykernel)",
   "language": "python",
   "name": "python3"
  },
  "language_info": {
   "codemirror_mode": {
    "name": "ipython",
    "version": 3
   },
   "file_extension": ".py",
   "mimetype": "text/x-python",
   "name": "python",
   "nbconvert_exporter": "python",
   "pygments_lexer": "ipython3",
   "version": "3.11.7"
  }
 },
 "nbformat": 4,
 "nbformat_minor": 5
}
